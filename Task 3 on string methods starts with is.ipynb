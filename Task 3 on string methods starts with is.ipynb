{
 "cells": [
  {
   "cell_type": "code",
   "execution_count": 97,
   "id": "bfea1097",
   "metadata": {},
   "outputs": [
    {
     "name": "stdout",
     "output_type": "stream",
     "text": [
      "True\n",
      "False\n"
     ]
    }
   ],
   "source": [
    "x = 'vanitha123'\n",
    "\n",
    "y = 'welcome to innamatics 1234'\n",
    "print(x.isalnum()) # returns false if all words are in number\n",
    "print(y.isalnum())\n"
   ]
  },
  {
   "cell_type": "code",
   "execution_count": null,
   "id": "074ec1f2",
   "metadata": {},
   "outputs": [],
   "source": []
  },
  {
   "cell_type": "code",
   "execution_count": 19,
   "id": "b4b582cd",
   "metadata": {},
   "outputs": [
    {
     "name": "stdout",
     "output_type": "stream",
     "text": [
      "True\n"
     ]
    }
   ],
   "source": [
    "x = 'welcome to innomatics 238'\n",
    "\n",
    "print(x.isascii()) # Return True if all characters in the string are ASCII, False otherwise."
   ]
  },
  {
   "cell_type": "code",
   "execution_count": null,
   "id": "9e39c2dc",
   "metadata": {},
   "outputs": [],
   "source": []
  },
  {
   "cell_type": "code",
   "execution_count": 98,
   "id": "9413ecb2",
   "metadata": {},
   "outputs": [
    {
     "name": "stdout",
     "output_type": "stream",
     "text": [
      "False\n",
      "False\n"
     ]
    }
   ],
   "source": [
    "x = 'welcome to vanita deshmukh 123'\n",
    "\n",
    "y = '123'\n",
    "\n",
    "print(x.isdecimal()) # Return True if the string is a decimal string, False otherwise.\n",
    "print(x.isdecimal())"
   ]
  },
  {
   "cell_type": "code",
   "execution_count": null,
   "id": "c14dd177",
   "metadata": {},
   "outputs": [],
   "source": []
  },
  {
   "cell_type": "code",
   "execution_count": 46,
   "id": "d83cefea",
   "metadata": {},
   "outputs": [
    {
     "name": "stdout",
     "output_type": "stream",
     "text": [
      "True\n",
      "True\n"
     ]
    }
   ],
   "source": [
    "x = 'Welcome to hyderabad 1234'\n",
    "\n",
    "x = '123457'\n",
    "\n",
    "print(x.isdigit())\n",
    "print(x.isdigit()) # Return True if the string is a digit string, False otherwise."
   ]
  },
  {
   "cell_type": "code",
   "execution_count": null,
   "id": "8ba1f1ad",
   "metadata": {},
   "outputs": [],
   "source": []
  },
  {
   "cell_type": "code",
   "execution_count": 54,
   "id": "eb7dc999",
   "metadata": {},
   "outputs": [
    {
     "name": "stdout",
     "output_type": "stream",
     "text": [
      "False\n",
      "True\n"
     ]
    }
   ],
   "source": [
    "y = 'vanita deshmukh 1234/1234'\n",
    "\n",
    "x = 'vanita_deshmukh'\n",
    "\n",
    "print(y.isidentifier()) # Return True if the string is a valid Python identifier, False otherwise.\n",
    "\n",
    "print(x.isidentifier())"
   ]
  },
  {
   "cell_type": "code",
   "execution_count": null,
   "id": "5150e3d1",
   "metadata": {},
   "outputs": [],
   "source": []
  },
  {
   "cell_type": "code",
   "execution_count": 60,
   "id": "13199de9",
   "metadata": {},
   "outputs": [
    {
     "name": "stdout",
     "output_type": "stream",
     "text": [
      "False\n",
      "True\n"
     ]
    }
   ],
   "source": [
    "z = 'Good evening'\n",
    "\n",
    "y = 'good evening'\n",
    "\n",
    "print(z.islower()) # Return True if the string is a lowercase string, False otherwise.\n",
    "print(y.islower())"
   ]
  },
  {
   "cell_type": "code",
   "execution_count": null,
   "id": "f3938138",
   "metadata": {},
   "outputs": [],
   "source": []
  },
  {
   "cell_type": "code",
   "execution_count": 66,
   "id": "7831cb86",
   "metadata": {},
   "outputs": [
    {
     "name": "stdout",
     "output_type": "stream",
     "text": [
      "False\n",
      "True\n"
     ]
    }
   ],
   "source": [
    "v = 'vanita deshmukh 1234'\n",
    "\n",
    "y = '123123123'\n",
    "\n",
    "print(v.isnumeric()) # Return True if the string is a numeric string, False otherwise.\n",
    "print(y.isnumeric())"
   ]
  },
  {
   "cell_type": "code",
   "execution_count": null,
   "id": "1d2b6d31",
   "metadata": {},
   "outputs": [],
   "source": []
  },
  {
   "cell_type": "code",
   "execution_count": 75,
   "id": "3d6b09d2",
   "metadata": {},
   "outputs": [
    {
     "name": "stdout",
     "output_type": "stream",
     "text": [
      "True\n",
      "True\n"
     ]
    }
   ],
   "source": [
    "n = 'Vanita from bidar 585403'\n",
    "\n",
    "v = 'bhavana,vanita / 23/t'\n",
    "\n",
    "print(n.isprintable()) # Return True if the string is printable, False otherwise.\n",
    "print(v.isprintable())"
   ]
  },
  {
   "cell_type": "code",
   "execution_count": null,
   "id": "3759d80d",
   "metadata": {},
   "outputs": [],
   "source": []
  },
  {
   "cell_type": "code",
   "execution_count": 88,
   "id": "c0818fcf",
   "metadata": {},
   "outputs": [
    {
     "name": "stdout",
     "output_type": "stream",
     "text": [
      "False\n",
      "True\n"
     ]
    }
   ],
   "source": [
    "v = 'welcome to innomatics.com'\n",
    "\n",
    "m =  \" \"\n",
    "\n",
    "print(v.isspace()) # Return True if the string is a whitespace string, False otherwise.\n",
    "\n",
    "print(m.isspace())\n"
   ]
  },
  {
   "cell_type": "code",
   "execution_count": null,
   "id": "c9b4d83f",
   "metadata": {},
   "outputs": [],
   "source": []
  },
  {
   "cell_type": "code",
   "execution_count": 92,
   "id": "d21f4338",
   "metadata": {},
   "outputs": [
    {
     "name": "stdout",
     "output_type": "stream",
     "text": [
      "False\n",
      "True\n"
     ]
    }
   ],
   "source": [
    "b = 'vanitadeshmukh'\n",
    "\n",
    "B = 'Vanita Deshmukh'\n",
    "\n",
    "print(b.istitle()) # Return True if the string is a title-cased string, False otherwise.\n",
    "\n",
    "print(B.istitle())"
   ]
  },
  {
   "cell_type": "code",
   "execution_count": null,
   "id": "583943d9",
   "metadata": {},
   "outputs": [],
   "source": []
  },
  {
   "cell_type": "code",
   "execution_count": 96,
   "id": "f88d2205",
   "metadata": {},
   "outputs": [
    {
     "name": "stdout",
     "output_type": "stream",
     "text": [
      "False\n",
      "True\n"
     ]
    }
   ],
   "source": [
    "n = 'Data science 242'\n",
    "\n",
    "h = 'DATA SCIENCE 242'\n",
    "\n",
    "print(n.isupper()) # Return True if the string is an uppercase string, False otherwise.\n",
    "print(h.isupper())\n",
    "\n"
   ]
  },
  {
   "cell_type": "code",
   "execution_count": null,
   "id": "45254782",
   "metadata": {},
   "outputs": [],
   "source": []
  },
  {
   "cell_type": "code",
   "execution_count": null,
   "id": "ecf1a1f2",
   "metadata": {},
   "outputs": [],
   "source": []
  }
 ],
 "metadata": {
  "kernelspec": {
   "display_name": "Python 3 (ipykernel)",
   "language": "python",
   "name": "python3"
  },
  "language_info": {
   "codemirror_mode": {
    "name": "ipython",
    "version": 3
   },
   "file_extension": ".py",
   "mimetype": "text/x-python",
   "name": "python",
   "nbconvert_exporter": "python",
   "pygments_lexer": "ipython3",
   "version": "3.10.9"
  }
 },
 "nbformat": 4,
 "nbformat_minor": 5
}
